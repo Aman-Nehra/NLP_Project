{
 "cells": [
  {
   "cell_type": "code",
   "execution_count": 41,
   "id": "60582443",
   "metadata": {},
   "outputs": [],
   "source": [
    "import numpy as np"
   ]
  },
  {
   "cell_type": "code",
   "execution_count": 42,
   "id": "f52cf717",
   "metadata": {},
   "outputs": [
    {
     "name": "stdout",
     "output_type": "stream",
     "text": [
      "[2.83206622 0.60317651 1.38941284 8.35760475 5.70387698 7.07791689\n",
      " 3.56690896 5.6557519  8.74420858 3.01243812 5.44475593 6.76753112\n",
      " 7.9509395  4.46390806 2.79107413 8.45754448 4.15703051 0.24315997\n",
      " 5.80481674 0.89100212]\n",
      "\n",
      "====== Rounding off the  elements to two decimal places ======\n",
      "\n",
      "[2.83 0.6  1.39 8.36 5.7  7.08 3.57 5.66 8.74 3.01 5.44 6.77 7.95 4.46\n",
      " 2.79 8.46 4.16 0.24 5.8  0.89]\n"
     ]
    }
   ],
   "source": [
    "arr = np.random.ranf(20)*10\n",
    "print(arr)\n",
    "print('\\n====== Rounding off the  elements to two decimal places ======\\n')\n",
    "arr = arr.round(2)\n",
    "print(arr)"
   ]
  },
  {
   "cell_type": "code",
   "execution_count": 43,
   "id": "3209c30e",
   "metadata": {},
   "outputs": [
    {
     "name": "stdout",
     "output_type": "stream",
     "text": [
      "minimum value :  0.24\n",
      "maximum value :  8.74\n",
      "median :  4.95\n"
     ]
    }
   ],
   "source": [
    "print(\"minimum value : \",np.min(arr))\n",
    "print(\"maximum value : \",np.max(arr))\n",
    "print(\"median : \",np.median(arr))"
   ]
  },
  {
   "cell_type": "code",
   "execution_count": 44,
   "id": "6bb063da",
   "metadata": {},
   "outputs": [
    {
     "name": "stdout",
     "output_type": "stream",
     "text": [
      "[ 8.01  0.36  1.93  8.36  5.7   7.08 12.74  5.66  8.74  9.06  5.44  6.77\n",
      "  7.95 19.89  7.78  8.46 17.31  0.06  5.8   0.79]\n"
     ]
    }
   ],
   "source": [
    "arr = np.where(arr<5,arr*arr,arr)\n",
    "arr = arr.round(2)\n",
    "print(arr)"
   ]
  },
  {
   "cell_type": "code",
   "execution_count": 45,
   "id": "4085f24c",
   "metadata": {},
   "outputs": [],
   "source": [
    "def numpy_alternate_sort(array):\n",
    "    sorted = list()\n",
    "    while len(array) > 0:\n",
    "        sorted.append(np.min(array))\n",
    "        array = np.delete(array,np.argmin(array))\n",
    "        if len(array) == 0:\n",
    "            break\n",
    "        sorted.append(np.max(array))\n",
    "        array = np.delete(array,np.argmax(array))\n",
    "        \n",
    "    return sorted"
   ]
  },
  {
   "cell_type": "code",
   "execution_count": 46,
   "id": "0faba0af",
   "metadata": {},
   "outputs": [
    {
     "name": "stdout",
     "output_type": "stream",
     "text": [
      "[0.06, 19.89, 0.36, 17.31, 0.79, 12.74, 1.93, 9.06, 5.44, 8.74, 5.66, 8.46, 5.7, 8.36, 5.8, 8.01, 6.77, 7.95, 7.08, 7.78]\n"
     ]
    }
   ],
   "source": [
    "sorted = numpy_alternate_sort(arr)\n",
    "print(sorted)"
   ]
  },
  {
   "cell_type": "code",
   "execution_count": null,
   "id": "8fceb4df",
   "metadata": {},
   "outputs": [],
   "source": []
  }
 ],
 "metadata": {
  "kernelspec": {
   "display_name": "Python 3",
   "language": "python",
   "name": "python3"
  },
  "language_info": {
   "codemirror_mode": {
    "name": "ipython",
    "version": 3
   },
   "file_extension": ".py",
   "mimetype": "text/x-python",
   "name": "python",
   "nbconvert_exporter": "python",
   "pygments_lexer": "ipython3",
   "version": "3.12.10"
  }
 },
 "nbformat": 4,
 "nbformat_minor": 5
}
