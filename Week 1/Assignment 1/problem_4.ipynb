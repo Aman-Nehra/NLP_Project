{
 "cells": [
  {
   "cell_type": "code",
   "execution_count": 70,
   "id": "95682550",
   "metadata": {},
   "outputs": [],
   "source": [
    "from sklearn.feature_extraction.text import CountVectorizer\n",
    "from sklearn.model_selection import train_test_split\n",
    "from nltk.corpus import stopwords\n",
    "import pandas as pd\n",
    "import nltk"
   ]
  },
  {
   "cell_type": "code",
   "execution_count": 71,
   "id": "3f48bfb5",
   "metadata": {},
   "outputs": [
    {
     "data": {
      "text/html": [
       "<div>\n",
       "<style scoped>\n",
       "    .dataframe tbody tr th:only-of-type {\n",
       "        vertical-align: middle;\n",
       "    }\n",
       "\n",
       "    .dataframe tbody tr th {\n",
       "        vertical-align: top;\n",
       "    }\n",
       "\n",
       "    .dataframe thead th {\n",
       "        text-align: right;\n",
       "    }\n",
       "</style>\n",
       "<table border=\"1\" class=\"dataframe\">\n",
       "  <thead>\n",
       "    <tr style=\"text-align: right;\">\n",
       "      <th></th>\n",
       "      <th>Review</th>\n",
       "      <th>Sentiment</th>\n",
       "    </tr>\n",
       "  </thead>\n",
       "  <tbody>\n",
       "    <tr>\n",
       "      <th>0</th>\n",
       "      <td>I really disliked this movie. Boring and unori...</td>\n",
       "      <td>negative</td>\n",
       "    </tr>\n",
       "    <tr>\n",
       "      <th>1</th>\n",
       "      <td>Terrible acting and poor story. Disappointing ...</td>\n",
       "      <td>negative</td>\n",
       "    </tr>\n",
       "    <tr>\n",
       "      <th>2</th>\n",
       "      <td>Terrible acting and poor story. A total waste ...</td>\n",
       "      <td>negative</td>\n",
       "    </tr>\n",
       "    <tr>\n",
       "      <th>3</th>\n",
       "      <td>Impressive work by the entire team. A masterpi...</td>\n",
       "      <td>positive</td>\n",
       "    </tr>\n",
       "    <tr>\n",
       "      <th>4</th>\n",
       "      <td>Fantastic acting and great story. Incredible s...</td>\n",
       "      <td>positive</td>\n",
       "    </tr>\n",
       "    <tr>\n",
       "      <th>...</th>\n",
       "      <td>...</td>\n",
       "      <td>...</td>\n",
       "    </tr>\n",
       "    <tr>\n",
       "      <th>95</th>\n",
       "      <td>I really disliked this movie. Felt like a wast...</td>\n",
       "      <td>negative</td>\n",
       "    </tr>\n",
       "    <tr>\n",
       "      <th>96</th>\n",
       "      <td>Felt like a waste of money. A total waste of t...</td>\n",
       "      <td>negative</td>\n",
       "    </tr>\n",
       "    <tr>\n",
       "      <th>97</th>\n",
       "      <td>Incredible storyline and performance. Brillian...</td>\n",
       "      <td>positive</td>\n",
       "    </tr>\n",
       "    <tr>\n",
       "      <th>98</th>\n",
       "      <td>A total waste of time. A total waste of time.</td>\n",
       "      <td>negative</td>\n",
       "    </tr>\n",
       "    <tr>\n",
       "      <th>99</th>\n",
       "      <td>Boring and unoriginal. Weak plot and bad direc...</td>\n",
       "      <td>negative</td>\n",
       "    </tr>\n",
       "  </tbody>\n",
       "</table>\n",
       "<p>100 rows × 2 columns</p>\n",
       "</div>"
      ],
      "text/plain": [
       "                                               Review Sentiment\n",
       "0   I really disliked this movie. Boring and unori...  negative\n",
       "1   Terrible acting and poor story. Disappointing ...  negative\n",
       "2   Terrible acting and poor story. A total waste ...  negative\n",
       "3   Impressive work by the entire team. A masterpi...  positive\n",
       "4   Fantastic acting and great story. Incredible s...  positive\n",
       "..                                                ...       ...\n",
       "95  I really disliked this movie. Felt like a wast...  negative\n",
       "96  Felt like a waste of money. A total waste of t...  negative\n",
       "97  Incredible storyline and performance. Brillian...  positive\n",
       "98      A total waste of time. A total waste of time.  negative\n",
       "99  Boring and unoriginal. Weak plot and bad direc...  negative\n",
       "\n",
       "[100 rows x 2 columns]"
      ]
     },
     "execution_count": 71,
     "metadata": {},
     "output_type": "execute_result"
    }
   ],
   "source": [
    "# Load the CSV\n",
    "data = pd.read_csv(\"synthetic_movie_reviews.csv\")\n",
    "data"
   ]
  },
  {
   "cell_type": "code",
   "execution_count": 72,
   "id": "2129dae5",
   "metadata": {},
   "outputs": [],
   "source": [
    "stop_words = stopwords.words('english')\n",
    "# Initialize CountVectorizer\n",
    "vectorizer = CountVectorizer(max_features=500, stop_words=stop_words)\n",
    "\n",
    "#transform the 'Review' column\n",
    "X = vectorizer.fit_transform(data['Review'])\n",
    "Y = data['Sentiment']=='positive'"
   ]
  },
  {
   "cell_type": "code",
   "execution_count": 73,
   "id": "5ede7741",
   "metadata": {},
   "outputs": [],
   "source": [
    "X_train,X_test,Y_train,Y_test = train_test_split(X,Y,test_size=0.2,random_state=42)"
   ]
  },
  {
   "cell_type": "code",
   "execution_count": 74,
   "id": "a3817db2",
   "metadata": {},
   "outputs": [
    {
     "name": "stdout",
     "output_type": "stream",
     "text": [
      "Accuracy :  0.95\n"
     ]
    }
   ],
   "source": [
    "from sklearn.naive_bayes import MultinomialNB\n",
    "from sklearn.metrics import accuracy_score\n",
    "\n",
    "model = MultinomialNB()\n",
    "model.fit(X_train,Y_train)\n",
    "Y_Pred = model.predict(X_test)\n",
    "print(\"Accuracy : \",accuracy_score(Y_test,Y_Pred))"
   ]
  },
  {
   "cell_type": "code",
   "execution_count": 75,
   "id": "a7edae63",
   "metadata": {},
   "outputs": [],
   "source": [
    "def predict_review_sentiment(model,vectorizer,review):\n",
    "    X_pred = vectorizer.transform([review])\n",
    "    if(model.predict(X_pred)==True):\n",
    "        return \"Positive\"\n",
    "    else:\n",
    "        return \"Negative\""
   ]
  },
  {
   "cell_type": "code",
   "execution_count": 76,
   "id": "be26b804",
   "metadata": {},
   "outputs": [
    {
     "name": "stdout",
     "output_type": "stream",
     "text": [
      "Positive\n"
     ]
    }
   ],
   "source": [
    "review = \"The movie was fantastic , acting was awesome. I liked the movie.\"\n",
    "print(predict_review_sentiment(model,vectorizer,review))"
   ]
  },
  {
   "cell_type": "code",
   "execution_count": null,
   "id": "5029c7c5",
   "metadata": {},
   "outputs": [],
   "source": []
  }
 ],
 "metadata": {
  "kernelspec": {
   "display_name": "Python 3",
   "language": "python",
   "name": "python3"
  },
  "language_info": {
   "codemirror_mode": {
    "name": "ipython",
    "version": 3
   },
   "file_extension": ".py",
   "mimetype": "text/x-python",
   "name": "python",
   "nbconvert_exporter": "python",
   "pygments_lexer": "ipython3",
   "version": "3.12.10"
  }
 },
 "nbformat": 4,
 "nbformat_minor": 5
}
