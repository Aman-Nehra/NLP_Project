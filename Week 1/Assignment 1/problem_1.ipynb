{
 "cells": [
  {
   "cell_type": "code",
   "execution_count": null,
   "id": "474e1f82",
   "metadata": {},
   "outputs": [],
   "source": [
    "import numpy as np"
   ]
  },
  {
   "cell_type": "code",
   "execution_count": 2,
   "id": "f6882ff8",
   "metadata": {},
   "outputs": [
    {
     "name": "stdout",
     "output_type": "stream",
     "text": [
      "[[32 43 10 46]\n",
      " [44 28 31 42]\n",
      " [37 10 50 35]\n",
      " [18  1 24 37]\n",
      " [22 38 35 44]]\n"
     ]
    }
   ],
   "source": [
    "arr = np.random.randint(1,51,(5,4))\n",
    "print(arr)"
   ]
  },
  {
   "cell_type": "code",
   "execution_count": null,
   "id": "f8252b6d",
   "metadata": {},
   "outputs": [
    {
     "name": "stdout",
     "output_type": "stream",
     "text": [
      "46\n",
      "31\n",
      "10\n",
      "18\n"
     ]
    }
   ],
   "source": [
    "# Extraxting the elements along the anti-diagonal\n",
    "i = 0\n",
    "j = 3\n",
    "while i<=4 and j>=0:\n",
    "    print(arr[i,j])\n",
    "    i = i + 1\n",
    "    j = j - 1"
   ]
  },
  {
   "cell_type": "code",
   "execution_count": 9,
   "id": "3c693875",
   "metadata": {},
   "outputs": [
    {
     "name": "stdout",
     "output_type": "stream",
     "text": [
      "[[46]\n",
      " [44]\n",
      " [50]\n",
      " [37]\n",
      " [44]]\n"
     ]
    }
   ],
   "source": [
    "# Maximum value in each row\n",
    "row_max = np.max(arr,axis=1)\n",
    "print(row_max.reshape(-1,1))"
   ]
  },
  {
   "cell_type": "code",
   "execution_count": 11,
   "id": "a4b06c93",
   "metadata": {},
   "outputs": [
    {
     "name": "stdout",
     "output_type": "stream",
     "text": [
      "The overall mean is:  31.35\n",
      "[32 43 46 44 42 37 50 35 37 38 35 44]\n"
     ]
    }
   ],
   "source": [
    "# Elements greater than or equal to overall mean\n",
    "overall_mean = np.mean(arr)\n",
    "print(\"The overall mean is: \",overall_mean)\n",
    "new_arr = arr[arr >= overall_mean]\n",
    "print(new_arr)"
   ]
  },
  {
   "cell_type": "code",
   "execution_count": 20,
   "id": "191bb202",
   "metadata": {},
   "outputs": [],
   "source": [
    "def numpy_boundary_traversal(matrix):\n",
    "    left = 0\n",
    "    right = len(matrix[0]) - 1\n",
    "    top = 0\n",
    "    bottom = len(matrix) - 1\n",
    "    boundary = list()\n",
    "\n",
    "    for i in range(left,right+1):\n",
    "        boundary.append(matrix[top][i])\n",
    "    top = top + 1\n",
    "\n",
    "    for i in range(top,bottom+1):\n",
    "        boundary.append(matrix[i][right])\n",
    "    right = right - 1\n",
    "    if top <= bottom:\n",
    "        for i in range(right,left-1,-1):\n",
    "            boundary.append(matrix[bottom][i])\n",
    "        bottom = bottom - 1\n",
    "    if left <= right:\n",
    "        for i in range(bottom,top-1,-1):\n",
    "            boundary.append(matrix[i][left])\n",
    "        left = left + 1\n",
    "    return boundary"
   ]
  },
  {
   "cell_type": "code",
   "execution_count": 21,
   "id": "8ee44e95",
   "metadata": {},
   "outputs": [
    {
     "name": "stdout",
     "output_type": "stream",
     "text": [
      "[32, 43, 10, 46, 42, 35, 37, 44, 35, 38, 22, 18, 37, 44]\n"
     ]
    }
   ],
   "source": [
    "boundary = numpy_boundary_traversal(arr)\n",
    "print(boundary)"
   ]
  },
  {
   "cell_type": "code",
   "execution_count": null,
   "id": "273f3a56",
   "metadata": {},
   "outputs": [],
   "source": []
  }
 ],
 "metadata": {
  "kernelspec": {
   "display_name": "Python 3",
   "language": "python",
   "name": "python3"
  },
  "language_info": {
   "codemirror_mode": {
    "name": "ipython",
    "version": 3
   },
   "file_extension": ".py",
   "mimetype": "text/x-python",
   "name": "python",
   "nbconvert_exporter": "python",
   "pygments_lexer": "ipython3",
   "version": "3.12.10"
  }
 },
 "nbformat": 4,
 "nbformat_minor": 5
}
