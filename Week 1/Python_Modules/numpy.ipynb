{
 "cells": [
  {
   "cell_type": "code",
   "execution_count": 39,
   "id": "85ffa9ef",
   "metadata": {},
   "outputs": [],
   "source": [
    "import numpy as np"
   ]
  },
  {
   "cell_type": "markdown",
   "id": "0d3b8807",
   "metadata": {},
   "source": [
    "##### Arrays in NumPy"
   ]
  },
  {
   "cell_type": "code",
   "execution_count": 40,
   "id": "414b247e",
   "metadata": {},
   "outputs": [],
   "source": [
    "arr = np.array([1,2,3]) # 1D array\n",
    "arr = np.array([[1,2,3],[4,5,6]]) # 2D array"
   ]
  },
  {
   "cell_type": "markdown",
   "id": "1d2f1b9f",
   "metadata": {},
   "source": [
    "##### Slicing in Arrays"
   ]
  },
  {
   "cell_type": "code",
   "execution_count": 41,
   "id": "e28dddbb",
   "metadata": {},
   "outputs": [
    {
     "name": "stdout",
     "output_type": "stream",
     "text": [
      "[20 30 40]\n",
      "[10 20 30]\n",
      "[10 30 50]\n",
      "[40 50]\n",
      "[1 2 3]\n",
      "[2 5 8]\n",
      "[[4 5]\n",
      " [7 8]]\n"
     ]
    }
   ],
   "source": [
    "a = np.array([10,20,30,40,50])\n",
    "print(a[1:4]) # [20,30,40]\n",
    "print(a[:3]) # [10,20,30]\n",
    "print(a[::2]) # [10,30,50]\n",
    "print(a[-2:]) # [40,50]\n",
    "\n",
    "b = np.array([[1, 2, 3],\n",
    "              [4, 5, 6],\n",
    "              [7, 8, 9]])\n",
    "\n",
    "print(b[0, :]) #first row\n",
    "print(b[:, 1]) #second row\n",
    "print(b[1:3, 0:2]) #submatrix"
   ]
  },
  {
   "cell_type": "markdown",
   "id": "90259208",
   "metadata": {},
   "source": [
    "#### Reshape"
   ]
  },
  {
   "cell_type": "code",
   "execution_count": 42,
   "id": "629473b8",
   "metadata": {},
   "outputs": [
    {
     "name": "stdout",
     "output_type": "stream",
     "text": [
      "[[1 2 3]\n",
      " [4 5 6]]\n"
     ]
    }
   ],
   "source": [
    "a = np.array([1, 2, 3, 4, 5, 6])\n",
    "b = a.reshape(2, 3)\n",
    "\n",
    "print(b)"
   ]
  },
  {
   "cell_type": "markdown",
   "id": "2b8d93bb",
   "metadata": {},
   "source": [
    "#### Arange"
   ]
  },
  {
   "cell_type": "code",
   "execution_count": 43,
   "id": "71d8f2b5",
   "metadata": {},
   "outputs": [
    {
     "name": "stdout",
     "output_type": "stream",
     "text": [
      "[0 2 4 6 8]\n"
     ]
    }
   ],
   "source": [
    "arr = np.arange(0,10,2)\n",
    "print(arr)"
   ]
  },
  {
   "cell_type": "markdown",
   "id": "e53d3330",
   "metadata": {},
   "source": [
    "##### Other Functions"
   ]
  },
  {
   "cell_type": "code",
   "execution_count": 44,
   "id": "cb2a55ba",
   "metadata": {},
   "outputs": [
    {
     "name": "stdout",
     "output_type": "stream",
     "text": [
      "[[1. 0. 0.]\n",
      " [0. 1. 0.]\n",
      " [0. 0. 1.]]\n",
      "\n",
      "============\n",
      "Dimension of the array e:  2\n",
      "\n",
      "============\n",
      "Size of the array e:  9\n",
      "\n",
      "============\n",
      "Data type of the elements of e:  float64\n",
      "\n",
      "============\n",
      "Size of one array element in bytes:  8\n",
      "\n",
      "============\n",
      "Flattened e into b :  [1. 0. 0. 0. 1. 0. 0. 0. 1.]\n",
      "\n",
      "============\n"
     ]
    }
   ],
   "source": [
    "# eye\n",
    "e = np.eye(3,3)\n",
    "print(e)\n",
    "print('\\n============')\n",
    "# ndim\n",
    "print(\"Dimension of the array e: \",np.ndim(e))\n",
    "print('\\n============')\n",
    "# size \n",
    "print(\"Size of the array e: \",e.size)\n",
    "print('\\n============')\n",
    "# dtype\n",
    "print(\"Data type of the elements of e: \",e.dtype)\n",
    "print('\\n============')\n",
    "# itemsize\n",
    "print(\"Size of one array element in bytes: \", e.itemsize)\n",
    "print('\\n============')\n",
    "# flatten\n",
    "b = e.flatten()\n",
    "print(\"Flattened e into b : \",b)\n",
    "print('\\n============')"
   ]
  },
  {
   "cell_type": "markdown",
   "id": "ca8a15e7",
   "metadata": {},
   "source": [
    "#### NumPy Vectorised Functions"
   ]
  },
  {
   "cell_type": "code",
   "execution_count": 45,
   "id": "0c9f3730",
   "metadata": {},
   "outputs": [
    {
     "name": "stdout",
     "output_type": "stream",
     "text": [
      "Element wise Arithematic\n",
      "a + b =  [11 22 33]\n",
      "a - b =  [ -9 -18 -27]\n",
      "a * b =  [10 40 90]\n",
      "a / b =  [0.1 0.1 0.1]\n",
      "\n",
      "===========\n",
      "Universal Functions\n",
      "Sin of the angles :  [0.0000000e+00 1.0000000e+00 1.2246468e-16]\n",
      "\n",
      "============\n",
      "Statistical Functions in NumPy\n",
      "Mean of the data 31.0\n",
      "Median of the data 35.0\n",
      "Random Array b :\n",
      "[[88 29 93]\n",
      " [ 8 56 88]\n",
      " [35 82 67]]\n",
      "Mean of each row of b : \n",
      "[[70.        ]\n",
      " [50.66666667]\n",
      " [61.33333333]]\n",
      "\n",
      "============\n",
      "Boolean Operations\n",
      "[ True  True  True  True]\n"
     ]
    }
   ],
   "source": [
    "# element wise arithematic\n",
    "print(\"Element wise Arithematic\")\n",
    "a = np.array([1,2,3])\n",
    "b = np.array([10,20,30])\n",
    "print(\"a + b = \",a+b)\n",
    "print(\"a - b = \",a-b)\n",
    "print(\"a * b = \",a*b)\n",
    "print(\"a / b = \",a/b)\n",
    "print('\\n===========')\n",
    "print('Universal Functions')\n",
    "angles = np.array([0, np.pi/2 , np.pi])\n",
    "sines = np.sin(angles)\n",
    "print(\"Sin of the angles : \",sines)\n",
    "print('\\n============')\n",
    "print('Statistical Functions in NumPy')\n",
    "a = np.array([10,20,35,40,50])\n",
    "print(\"Mean of the data\",np.mean(a))\n",
    "print(\"Median of the data\",np.median(a))\n",
    "b = np.random.randint(1,101,(3,3))\n",
    "print(\"Random Array b :\")\n",
    "print(b)\n",
    "print(\"Mean of each row of b : \")\n",
    "print(np.mean(b,axis=1).reshape(-1,1))\n",
    "print('\\n============')\n",
    "print(\"Boolean Operations\")\n",
    "a = np.array([1, 2, 3, 4])\n",
    "b = np.array([2, 2, 3, 5])\n",
    "print((a == b) | (a < b))"
   ]
  },
  {
   "cell_type": "markdown",
   "id": "ab661ba3",
   "metadata": {},
   "source": [
    "##### Broadcasting"
   ]
  },
  {
   "cell_type": "code",
   "execution_count": 46,
   "id": "b896b207",
   "metadata": {},
   "outputs": [
    {
     "name": "stdout",
     "output_type": "stream",
     "text": [
      "Add Scalar to an array\n",
      "a + b :  [6 7 8 9]\n",
      "\n",
      "============\n",
      "Add 1D to 2D Array\n",
      "A + B : \n",
      "[[11 22 33]\n",
      " [14 25 36]]\n",
      "\n",
      "============\n",
      "Column wise Broadcasting\n",
      "A + B : \n",
      "[[11 12 13]\n",
      " [24 25 26]]\n",
      "\n",
      "============\n",
      "ERROR IN BROADCASTING\n"
     ]
    },
    {
     "ename": "ValueError",
     "evalue": "operands could not be broadcast together with shapes (3,) (2,2) ",
     "output_type": "error",
     "traceback": [
      "\u001b[1;31m---------------------------------------------------------------------------\u001b[0m",
      "\u001b[1;31mValueError\u001b[0m                                Traceback (most recent call last)",
      "Cell \u001b[1;32mIn[46], line 26\u001b[0m\n\u001b[0;32m     24\u001b[0m a \u001b[38;5;241m=\u001b[39m np\u001b[38;5;241m.\u001b[39marray([\u001b[38;5;241m1\u001b[39m, \u001b[38;5;241m2\u001b[39m, \u001b[38;5;241m3\u001b[39m])\n\u001b[0;32m     25\u001b[0m b \u001b[38;5;241m=\u001b[39m np\u001b[38;5;241m.\u001b[39marray([[\u001b[38;5;241m1\u001b[39m,\u001b[38;5;241m2\u001b[39m],[\u001b[38;5;241m3\u001b[39m,\u001b[38;5;241m4\u001b[39m]])\n\u001b[1;32m---> 26\u001b[0m \u001b[38;5;28mprint\u001b[39m(\u001b[43ma\u001b[49m\u001b[38;5;241;43m+\u001b[39;49m\u001b[43mb\u001b[49m)\n",
      "\u001b[1;31mValueError\u001b[0m: operands could not be broadcast together with shapes (3,) (2,2) "
     ]
    }
   ],
   "source": [
    "print('Add Scalar to an array')\n",
    "a = np.array([1,2,3,4])\n",
    "b = 5\n",
    "print(\"a + b : \",a+b)\n",
    "print('\\n============')\n",
    "print('Add 1D to 2D Array')\n",
    "A = np.array([[1, 2, 3],\n",
    "              [4, 5, 6]])\n",
    "\n",
    "B = np.array([10, 20, 30])\n",
    "print('A + B : ')\n",
    "print(A + B)\n",
    "print('\\n============')\n",
    "print('Column wise Broadcasting')\n",
    "A = np.array([[1, 2, 3],\n",
    "              [4, 5, 6]])\n",
    "\n",
    "B = np.array([[10],\n",
    "              [20]])\n",
    "print('A + B : ')\n",
    "print(A + B)\n",
    "print('\\n============')\n",
    "print('ERROR IN BROADCASTING')\n",
    "a = np.array([1, 2, 3])\n",
    "b = np.array([[1,2],[3,4]])\n",
    "print(a+b)"
   ]
  }
 ],
 "metadata": {
  "kernelspec": {
   "display_name": "Python 3",
   "language": "python",
   "name": "python3"
  },
  "language_info": {
   "codemirror_mode": {
    "name": "ipython",
    "version": 3
   },
   "file_extension": ".py",
   "mimetype": "text/x-python",
   "name": "python",
   "nbconvert_exporter": "python",
   "pygments_lexer": "ipython3",
   "version": "3.12.10"
  }
 },
 "nbformat": 4,
 "nbformat_minor": 5
}
