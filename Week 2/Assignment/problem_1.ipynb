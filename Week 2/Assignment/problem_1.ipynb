{
 "cells": [
  {
   "cell_type": "code",
   "execution_count": 49,
   "id": "b96165a6",
   "metadata": {},
   "outputs": [],
   "source": [
    "import pandas as pd\n",
    "import numpy as np\n",
    "import gensim.downloader as api\n",
    "import nltk\n",
    "from nltk.corpus import stopwords"
   ]
  },
  {
   "cell_type": "code",
   "execution_count": 50,
   "id": "f0e34253",
   "metadata": {},
   "outputs": [
    {
     "data": {
      "text/html": [
       "<div>\n",
       "<style scoped>\n",
       "    .dataframe tbody tr th:only-of-type {\n",
       "        vertical-align: middle;\n",
       "    }\n",
       "\n",
       "    .dataframe tbody tr th {\n",
       "        vertical-align: top;\n",
       "    }\n",
       "\n",
       "    .dataframe thead th {\n",
       "        text-align: right;\n",
       "    }\n",
       "</style>\n",
       "<table border=\"1\" class=\"dataframe\">\n",
       "  <thead>\n",
       "    <tr style=\"text-align: right;\">\n",
       "      <th></th>\n",
       "      <th>label</th>\n",
       "      <th>text</th>\n",
       "    </tr>\n",
       "  </thead>\n",
       "  <tbody>\n",
       "    <tr>\n",
       "      <th>0</th>\n",
       "      <td>ham</td>\n",
       "      <td>Go until jurong point, crazy.. Available only ...</td>\n",
       "    </tr>\n",
       "    <tr>\n",
       "      <th>1</th>\n",
       "      <td>ham</td>\n",
       "      <td>Ok lar... Joking wif u oni...</td>\n",
       "    </tr>\n",
       "    <tr>\n",
       "      <th>2</th>\n",
       "      <td>spam</td>\n",
       "      <td>Free entry in 2 a wkly comp to win FA Cup fina...</td>\n",
       "    </tr>\n",
       "    <tr>\n",
       "      <th>3</th>\n",
       "      <td>ham</td>\n",
       "      <td>U dun say so early hor... U c already then say...</td>\n",
       "    </tr>\n",
       "    <tr>\n",
       "      <th>4</th>\n",
       "      <td>ham</td>\n",
       "      <td>Nah I don't think he goes to usf, he lives aro...</td>\n",
       "    </tr>\n",
       "    <tr>\n",
       "      <th>...</th>\n",
       "      <td>...</td>\n",
       "      <td>...</td>\n",
       "    </tr>\n",
       "    <tr>\n",
       "      <th>5567</th>\n",
       "      <td>spam</td>\n",
       "      <td>This is the 2nd time we have tried 2 contact u...</td>\n",
       "    </tr>\n",
       "    <tr>\n",
       "      <th>5568</th>\n",
       "      <td>ham</td>\n",
       "      <td>Will �_ b going to esplanade fr home?</td>\n",
       "    </tr>\n",
       "    <tr>\n",
       "      <th>5569</th>\n",
       "      <td>ham</td>\n",
       "      <td>Pity, * was in mood for that. So...any other s...</td>\n",
       "    </tr>\n",
       "    <tr>\n",
       "      <th>5570</th>\n",
       "      <td>ham</td>\n",
       "      <td>The guy did some bitching but I acted like i'd...</td>\n",
       "    </tr>\n",
       "    <tr>\n",
       "      <th>5571</th>\n",
       "      <td>ham</td>\n",
       "      <td>Rofl. Its true to its name</td>\n",
       "    </tr>\n",
       "  </tbody>\n",
       "</table>\n",
       "<p>5572 rows × 2 columns</p>\n",
       "</div>"
      ],
      "text/plain": [
       "     label                                               text\n",
       "0      ham  Go until jurong point, crazy.. Available only ...\n",
       "1      ham                      Ok lar... Joking wif u oni...\n",
       "2     spam  Free entry in 2 a wkly comp to win FA Cup fina...\n",
       "3      ham  U dun say so early hor... U c already then say...\n",
       "4      ham  Nah I don't think he goes to usf, he lives aro...\n",
       "...    ...                                                ...\n",
       "5567  spam  This is the 2nd time we have tried 2 contact u...\n",
       "5568   ham              Will �_ b going to esplanade fr home?\n",
       "5569   ham  Pity, * was in mood for that. So...any other s...\n",
       "5570   ham  The guy did some bitching but I acted like i'd...\n",
       "5571   ham                         Rofl. Its true to its name\n",
       "\n",
       "[5572 rows x 2 columns]"
      ]
     },
     "execution_count": 50,
     "metadata": {},
     "output_type": "execute_result"
    }
   ],
   "source": [
    "data = pd.read_csv('spam.csv',usecols=[0,1])\n",
    "data"
   ]
  },
  {
   "cell_type": "markdown",
   "id": "8fc17785",
   "metadata": {},
   "source": [
    "#### PreProcessing"
   ]
  },
  {
   "cell_type": "code",
   "execution_count": 51,
   "id": "29495127",
   "metadata": {},
   "outputs": [
    {
     "data": {
      "text/plain": [
       "['go',\n",
       " 'jurong',\n",
       " 'point,',\n",
       " 'crazy..',\n",
       " 'available',\n",
       " 'bugis',\n",
       " 'n',\n",
       " 'great',\n",
       " 'world',\n",
       " 'la',\n",
       " 'e',\n",
       " 'buffet...',\n",
       " 'cine',\n",
       " 'got',\n",
       " 'amore',\n",
       " 'wat...']"
      ]
     },
     "execution_count": 51,
     "metadata": {},
     "output_type": "execute_result"
    }
   ],
   "source": [
    "stop_words = set(stopwords.words('english'))\n",
    "def preprocess(message):\n",
    "    words = message.lower().split()\n",
    "    processed = [word for word in words if word not in stop_words]\n",
    "    return processed\n",
    "\n",
    "message = preprocess(data.iloc[0,1])  # preprocessed message for the message in first row\n",
    "message"
   ]
  },
  {
   "cell_type": "markdown",
   "id": "fef99b4d",
   "metadata": {},
   "source": [
    "#### Loading the Word2Vec model"
   ]
  },
  {
   "cell_type": "code",
   "execution_count": 52,
   "id": "c4461543",
   "metadata": {},
   "outputs": [],
   "source": [
    "model = api.load('word2vec-google-news-300')"
   ]
  },
  {
   "cell_type": "markdown",
   "id": "af5242f2",
   "metadata": {},
   "source": [
    "#### Converting message to vector "
   ]
  },
  {
   "cell_type": "code",
   "execution_count": 68,
   "id": "f45134be",
   "metadata": {},
   "outputs": [
    {
     "name": "stdout",
     "output_type": "stream",
     "text": [
      "\n",
      "=== Feature Vector ===\n",
      "\n",
      "[[ 0.0038269   0.04334106  0.00832519 ... -0.08195801 -0.07321777\n",
      "   0.03902588]\n",
      " [-0.0387001   0.08392334  0.07502747 ... -0.16259766 -0.06219482\n",
      "   0.03955078]\n",
      " [ 0.00078852 -0.0298785  -0.0717199  ... -0.12769902 -0.09681567\n",
      "   0.01087705]\n",
      " ...\n",
      " [ 0.15901184  0.0958252  -0.00756836 ...  0.10864258  0.05224609\n",
      "  -0.01599121]\n",
      " [ 0.09965633  0.02711839 -0.01533156 ... -0.06056565 -0.00980377\n",
      "  -0.04541016]\n",
      " [ 0.13818359  0.10009766  0.08813477 ... -0.04052734 -0.14939117\n",
      "  -0.05102539]]\n",
      "\n",
      "=== Labels ===\n",
      "\n",
      "0        ham\n",
      "1        ham\n",
      "2       spam\n",
      "3        ham\n",
      "4        ham\n",
      "        ... \n",
      "5567    spam\n",
      "5568     ham\n",
      "5569     ham\n",
      "5570     ham\n",
      "5571     ham\n",
      "Name: label, Length: 5572, dtype: object\n"
     ]
    }
   ],
   "source": [
    "def avgWord2Vec(message,model):\n",
    "    valid_vectors = [model[word] for word in message if word in model]\n",
    "\n",
    "    if not valid_vectors:\n",
    "        return np.zeros(model.vector_size)\n",
    "    else:\n",
    "        return np.mean(valid_vectors,axis=0)\n",
    "    \n",
    "messages = []\n",
    "for i in range(data.shape[0]):\n",
    "    messages.append(preprocess(data.iloc[i,1]))\n",
    "\n",
    "X = np.zeros((data.shape[0],300))\n",
    "\n",
    "for i in range(len(messages)):\n",
    "    vector = avgWord2Vec(messages[i],model)\n",
    "    X[i] = vector\n",
    "\n",
    "Y = data['label']\n",
    "print('\\n=== Feature Vector ===\\n')\n",
    "print(X)\n",
    "print('\\n=== Labels ===\\n')\n",
    "print(Y)"
   ]
  },
  {
   "cell_type": "markdown",
   "id": "19dd2188",
   "metadata": {},
   "source": [
    "#### Train Test Split"
   ]
  },
  {
   "cell_type": "code",
   "execution_count": 69,
   "id": "a65a416f",
   "metadata": {},
   "outputs": [],
   "source": [
    "from sklearn.model_selection import train_test_split\n",
    "\n",
    "X_train,X_test,Y_train,Y_test = train_test_split(X,Y,test_size=0.2,random_state=42)"
   ]
  },
  {
   "cell_type": "markdown",
   "id": "99b69786",
   "metadata": {},
   "source": [
    "#### Training and Accuracy of the Model"
   ]
  },
  {
   "cell_type": "code",
   "execution_count": 70,
   "id": "aab00123",
   "metadata": {},
   "outputs": [
    {
     "name": "stdout",
     "output_type": "stream",
     "text": [
      "Accuracy of the Model :  0.9381165919282511\n"
     ]
    }
   ],
   "source": [
    "from sklearn.linear_model import LogisticRegression\n",
    "from sklearn.metrics import accuracy_score\n",
    "\n",
    "classifier_model = LogisticRegression()\n",
    "classifier_model.fit(X_train,Y_train)\n",
    "Y_Pred = classifier_model.predict(X_test)\n",
    "print(\"Accuracy of the Model : \",accuracy_score(Y_test,Y_Pred))"
   ]
  },
  {
   "cell_type": "markdown",
   "id": "312095b0",
   "metadata": {},
   "source": [
    "#### Testing on new Inputs"
   ]
  },
  {
   "cell_type": "code",
   "execution_count": 73,
   "id": "d741d7fb",
   "metadata": {},
   "outputs": [],
   "source": [
    "def predict_message_class(model,w2v_model,message):\n",
    "    message = preprocess(message)\n",
    "    message_vector = avgWord2Vec(message,w2v_model).reshape(1,-1)\n",
    "    return model.predict(message_vector)[0]"
   ]
  },
  {
   "cell_type": "code",
   "execution_count": 74,
   "id": "837b306f",
   "metadata": {},
   "outputs": [
    {
     "data": {
      "text/plain": [
       "'ham'"
      ]
     },
     "execution_count": 74,
     "metadata": {},
     "output_type": "execute_result"
    }
   ],
   "source": [
    "message1 = \"Hey, are we still on for the meeting tomorrow at 10 AM? Let me know if anything changes. Cheers!\"\n",
    "predict_message_class(classifier_model,model,message1)"
   ]
  },
  {
   "cell_type": "code",
   "execution_count": 75,
   "id": "7ab1948b",
   "metadata": {},
   "outputs": [
    {
     "data": {
      "text/plain": [
       "'spam'"
      ]
     },
     "execution_count": 75,
     "metadata": {},
     "output_type": "execute_result"
    }
   ],
   "source": [
    "message2 = \"Congratulations! You've won a free iPhone. Click here to claim your prize now: http://scam-link.com\"\n",
    "predict_message_class(classifier_model,model,message2)"
   ]
  }
 ],
 "metadata": {
  "kernelspec": {
   "display_name": "Python 3",
   "language": "python",
   "name": "python3"
  },
  "language_info": {
   "codemirror_mode": {
    "name": "ipython",
    "version": 3
   },
   "file_extension": ".py",
   "mimetype": "text/x-python",
   "name": "python",
   "nbconvert_exporter": "python",
   "pygments_lexer": "ipython3",
   "version": "3.12.10"
  }
 },
 "nbformat": 4,
 "nbformat_minor": 5
}
