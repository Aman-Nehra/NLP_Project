{
 "cells": [
  {
   "cell_type": "markdown",
   "id": "32dcf748",
   "metadata": {},
   "source": [
    "### Bag Of Words"
   ]
  },
  {
   "cell_type": "code",
   "execution_count": 1,
   "id": "76923dd5",
   "metadata": {},
   "outputs": [],
   "source": [
    "from sklearn.feature_extraction.text import CountVectorizer"
   ]
  },
  {
   "cell_type": "code",
   "execution_count": 2,
   "id": "5ea3d9da",
   "metadata": {},
   "outputs": [
    {
     "name": "stdout",
     "output_type": "stream",
     "text": [
      "Vocabulary:  {'one': 9, 'geek': 3, 'helps': 7, 'two': 11, 'geeks': 4, 'help': 6, 'four': 2, 'each': 1, 'many': 8, 'other': 10, 'at': 0, 'geeksforgeeks': 5}\n",
      "Encoded Document is:\n",
      "[[0 0 0 1 1 0 0 1 0 1 0 1]\n",
      " [0 0 1 0 2 0 1 0 0 0 0 1]\n",
      " [1 1 0 1 1 1 0 1 1 0 1 0]]\n"
     ]
    }
   ],
   "source": [
    "document = ['One Geek helps Two Geeks',\n",
    "            'Two Geeks help Four Geeks',\n",
    "            'Each Geek helps many other Geeks at GeeksforGeeks']\n",
    "\n",
    "# Create a Vectorizer Object\n",
    "vectorizer = CountVectorizer()\n",
    "\n",
    "vectorizer.fit(document)\n",
    "\n",
    "# Printing the identified Unique words along with their indices\n",
    "print('Vocabulary: ',vectorizer.vocabulary_)\n",
    "\n",
    "# Encode the Document\n",
    "vector = vectorizer.transform(document)\n",
    "\n",
    "# Summarizing the encoded texts\n",
    "print('Encoded Document is:')\n",
    "print(vector.toarray())"
   ]
  },
  {
   "cell_type": "markdown",
   "id": "4bea764e",
   "metadata": {},
   "source": [
    "### TF-IDF (Term frequency - Inverse Document Frequency)"
   ]
  },
  {
   "cell_type": "markdown",
   "id": "b3dc2314",
   "metadata": {},
   "source": [
    "TF(t,d) = (Number of times t occur in d)/(Total number of words in d)\n",
    "\n",
    "IDF(t,D) = log((Number of Documents in the corpus D)/(Number of documents with the word t))\n",
    "\n",
    "Formula of IDF used by scikit-learn:\n",
    "\n",
    "log((1 + N)/(1 + df(t))) + 1      \n",
    "(Smoothening) "
   ]
  },
  {
   "cell_type": "code",
   "execution_count": 3,
   "id": "f16548bd",
   "metadata": {},
   "outputs": [],
   "source": [
    "from sklearn.feature_extraction.text import TfidfVectorizer"
   ]
  },
  {
   "cell_type": "code",
   "execution_count": 4,
   "id": "5e365b2f",
   "metadata": {},
   "outputs": [
    {
     "data": {
      "text/plain": [
       "array([[0.54935123, 0.83559154, 0.        ],\n",
       "       [0.        , 1.        , 0.        ],\n",
       "       [0.        , 0.        , 1.        ]])"
      ]
     },
     "execution_count": 4,
     "metadata": {},
     "output_type": "execute_result"
    }
   ],
   "source": [
    "d0 = 'Geeks for geeks'\n",
    "d1 = 'Geeks'\n",
    "d2 = 'r2j'\n",
    "\n",
    "# merge the documents in a single corpus\n",
    "string  = [d0,d1,d2]\n",
    "\n",
    "Tfidf = TfidfVectorizer()\n",
    "result = Tfidf.fit_transform(string)\n",
    "result.toarray()"
   ]
  },
  {
   "cell_type": "code",
   "execution_count": 5,
   "id": "e044f545",
   "metadata": {},
   "outputs": [
    {
     "name": "stdout",
     "output_type": "stream",
     "text": [
      "\n",
      "IDF values:\n",
      "for : 1.6931471805599454\n",
      "geeks : 1.2876820724517808\n",
      "r2j : 1.6931471805599454\n"
     ]
    }
   ],
   "source": [
    "# get idf values\n",
    "print('\\nIDF values:')\n",
    "for ele1, ele2 in zip(Tfidf.get_feature_names_out(),Tfidf.idf_):\n",
    "    print(ele1, ':', ele2)"
   ]
  },
  {
   "cell_type": "code",
   "execution_count": 6,
   "id": "e2096935",
   "metadata": {},
   "outputs": [
    {
     "name": "stdout",
     "output_type": "stream",
     "text": [
      "\n",
      "Word indexes:\n",
      "{'geeks': 1, 'for': 0, 'r2j': 2}\n",
      "\n",
      "tf-idf value:\n",
      "<Compressed Sparse Row sparse matrix of dtype 'float64'\n",
      "\twith 4 stored elements and shape (3, 3)>\n",
      "  Coords\tValues\n",
      "  (0, 1)\t0.8355915419449176\n",
      "  (0, 0)\t0.5493512310263033\n",
      "  (1, 1)\t1.0\n",
      "  (2, 2)\t1.0\n",
      "\n",
      "tf-idf values in matrix form:\n",
      "[[0.54935123 0.83559154 0.        ]\n",
      " [0.         1.         0.        ]\n",
      " [0.         0.         1.        ]]\n"
     ]
    }
   ],
   "source": [
    "# get indexing\n",
    "print('\\nWord indexes:')\n",
    "print(Tfidf.vocabulary_)\n",
    "\n",
    "# display tf-idf values\n",
    "print('\\ntf-idf value:')\n",
    "print(result)\n",
    "\n",
    "# in matrix form\n",
    "print('\\ntf-idf values in matrix form:')\n",
    "print(result.toarray()) \n"
   ]
  },
  {
   "cell_type": "code",
   "execution_count": null,
   "id": "007222ed",
   "metadata": {},
   "outputs": [
    {
     "name": "stdout",
     "output_type": "stream",
     "text": [
      "\n",
      "Word indexes:\n",
      "{'geeks': 1, 'for': 0}\n",
      "\n",
      "tf-idf values:\n",
      "<Compressed Sparse Row sparse matrix of dtype 'float64'\n",
      "\twith 4 stored elements and shape (2, 2)>\n",
      "  Coords\tValues\n",
      "  (0, 1)\t0.8944271909999159\n",
      "  (0, 0)\t0.4472135954999579\n",
      "  (1, 1)\t0.8944271909999159\n",
      "  (1, 0)\t0.4472135954999579\n",
      "[1. 1.]\n"
     ]
    }
   ],
   "source": [
    "# assign documents\n",
    "d0 = 'Geeks for geeks!'\n",
    "d1 = 'Geeks for geeks!'\n",
    "\n",
    "\n",
    "# merge documents into a single corpus\n",
    "string = [d0, d1]\n",
    "\n",
    "# create object\n",
    "tfidf = TfidfVectorizer()\n",
    "\n",
    "# get tf-df values\n",
    "result = tfidf.fit_transform(string)\n",
    "\n",
    "# get indexing\n",
    "print('\\nWord indexes:')\n",
    "print(tfidf.vocabulary_)\n",
    "\n",
    "# display tf-idf values\n",
    "print('\\ntf-idf values:')\n",
    "print(result)\n",
    "\n",
    "\n",
    "print(tfidf.idf_)"
   ]
  }
 ],
 "metadata": {
  "kernelspec": {
   "display_name": "Python 3",
   "language": "python",
   "name": "python3"
  },
  "language_info": {
   "codemirror_mode": {
    "name": "ipython",
    "version": 3
   },
   "file_extension": ".py",
   "mimetype": "text/x-python",
   "name": "python",
   "nbconvert_exporter": "python",
   "pygments_lexer": "ipython3",
   "version": "3.12.10"
  }
 },
 "nbformat": 4,
 "nbformat_minor": 5
}
